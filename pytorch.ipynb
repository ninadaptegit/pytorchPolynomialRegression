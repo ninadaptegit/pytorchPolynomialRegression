{
  "nbformat": 4,
  "nbformat_minor": 0,
  "metadata": {
    "colab": {
      "provenance": [],
      "gpuType": "T4",
      "authorship_tag": "ABX9TyM/Qj3fOFtkTcaSvoRbxTvJ",
      "include_colab_link": true
    },
    "kernelspec": {
      "name": "python3",
      "display_name": "Python 3"
    },
    "language_info": {
      "name": "python"
    }
  },
  "cells": [
    {
      "cell_type": "markdown",
      "metadata": {
        "id": "view-in-github",
        "colab_type": "text"
      },
      "source": [
        "<a href=\"https://colab.research.google.com/github/ninadaptegit/pytorchPolynomialRegression/blob/main/pytorch.ipynb\" target=\"_parent\"><img src=\"https://colab.research.google.com/assets/colab-badge.svg\" alt=\"Open In Colab\"/></a>"
      ]
    },
    {
      "cell_type": "code",
      "source": [
        "import torch\n",
        "import numpy as np\n",
        "import matplotlib.pyplot as plt\n",
        "import pandas as pd\n",
        "from torch import nn\n",
        "from sklearn.model_selection import train_test_split\n",
        "from tqdm.notebook import tqdm"
      ],
      "metadata": {
        "id": "JT347UPac4tk"
      },
      "execution_count": null,
      "outputs": []
    },
    {
      "cell_type": "markdown",
      "source": [
        "# Get the Data as\n",
        "y = x^2 + 2x + 1 + rand()"
      ],
      "metadata": {
        "id": "3hUDe-mVedht"
      }
    },
    {
      "cell_type": "code",
      "source": [
        "X = torch.arange(1,1000).unsqueeze(dim=1)"
      ],
      "metadata": {
        "id": "pxihW8QseW8e"
      },
      "execution_count": null,
      "outputs": []
    },
    {
      "cell_type": "code",
      "source": [
        "y = X.pow(2) + 2*X + 1 + torch.rand(X.shape)"
      ],
      "metadata": {
        "id": "jsmnkNDRerHj"
      },
      "execution_count": null,
      "outputs": []
    },
    {
      "cell_type": "code",
      "source": [
        "X_train, X_test, y_train, y_test = train_test_split(X, y, test_size=0.2, random_state=42)"
      ],
      "metadata": {
        "id": "DTRFbW11es4l"
      },
      "execution_count": null,
      "outputs": []
    },
    {
      "cell_type": "code",
      "source": [
        "def plot_predictions(train_data = X_train, train_labels = y_train, test_data = X_test, test_labels = y_test, predictions = None):\n",
        "\n",
        "  plt.figure(figsize = (10,7))\n",
        "  plt.scatter(train_data, train_labels, c='b', s=4, label = 'Training Data')\n",
        "  plt.scatter(test_data, test_labels, c='g',s=4, label = 'Test Data')\n",
        "  if predictions is not None:\n",
        "    plt.scatter(test_data, predictions, c='r',s=4, label = 'Predictions')\n",
        "  plt.legend(prop = {'size':14})\n",
        "\n",
        "plot_predictions()"
      ],
      "metadata": {
        "id": "msfMyizqe5RI"
      },
      "execution_count": null,
      "outputs": []
    },
    {
      "cell_type": "code",
      "source": [
        "class LinearRegressionModel(nn.Module):\n",
        "  def __init__(self):\n",
        "    super().__init__()\n",
        "    self.weights = nn.Parameter(torch.randn(1, requires_grad=True, dtype=torch.float))\n",
        "    self.bias = nn.Parameter(torch.randn(1, requires_grad=True, dtype=torch.float))\n",
        "\n",
        "  def forward(self, x: torch.Tensor)->torch.Tensor:\n",
        "    return self.weights * x + self.bias\n",
        "\n"
      ],
      "metadata": {
        "id": "U7Z3-VzQe5Nr"
      },
      "execution_count": null,
      "outputs": []
    },
    {
      "cell_type": "code",
      "source": [
        "torch.manual_seed(42)\n",
        "linear_model = LinearRegressionModel()\n"
      ],
      "metadata": {
        "id": "i96GU2Vwe5Ld"
      },
      "execution_count": null,
      "outputs": []
    },
    {
      "cell_type": "code",
      "source": [
        "optimizer = torch.optim.SGD(params = linear_model.parameters(), lr = 0.01)\n",
        "loss_fn = nn.L1Loss()"
      ],
      "metadata": {
        "id": "74P0ncCMh_oc"
      },
      "execution_count": null,
      "outputs": []
    },
    {
      "cell_type": "code",
      "source": [
        "epochs = 500\n",
        "num_epochs = []\n",
        "train_error = []\n",
        "test_error = []\n",
        "\n",
        "for epoch in tqdm(range(epochs)):\n",
        "\n",
        "  linear_model.train()\n",
        "  y_pred = linear_model(X_train)\n",
        "  loss = loss_fn(y_pred, y_train)\n",
        "  optimizer.zero_grad()\n",
        "  loss.backward()\n",
        "  optimizer.step()\n",
        "  linear_model.eval()\n",
        "  with torch.inference_mode():\n",
        "    test_pred = linear_model(X_test)\n",
        "    test_loss = loss_fn(test_pred, y_test)\n",
        "    if epoch%10==0:\n",
        "      num_epochs.append(epoch)\n",
        "      train_error.append(loss)\n",
        "      test_error.append(test_loss)\n",
        "\n"
      ],
      "metadata": {
        "id": "yMBCMwiWe5JO"
      },
      "execution_count": null,
      "outputs": []
    },
    {
      "cell_type": "code",
      "source": [
        "linear_predictions = linear_model(X_test)\n"
      ],
      "metadata": {
        "id": "G5VDlgWujl2R"
      },
      "execution_count": null,
      "outputs": []
    },
    {
      "cell_type": "code",
      "source": [
        "plot_predictions(predictions = linear_predictions.detach())"
      ],
      "metadata": {
        "id": "8G0GRIonjrDC"
      },
      "execution_count": null,
      "outputs": []
    },
    {
      "cell_type": "code",
      "source": [
        "X_train = X_train.float()\n",
        "X_test = X_test.float()"
      ],
      "metadata": {
        "id": "Wca4HaZesTl4"
      },
      "execution_count": null,
      "outputs": []
    },
    {
      "cell_type": "code",
      "source": [
        "class PolynomialModel(nn.Module):\n",
        "  def __init__(self , power):\n",
        "    super().__init__()\n",
        "    self.power = power\n",
        "    self.weights = nn.Parameter(torch.randn(size = (power+1,1),requires_grad=True,dtype=torch.float))\n",
        "  def forward(self,X:torch.tensor)->torch.tensor:\n",
        "    ans = torch.zeros_like(X,dtype=torch.float)\n",
        "    for i in range(0,self.power+1):\n",
        "      ans += self.weights[i] * X.pow(i)\n",
        "    return ans"
      ],
      "metadata": {
        "id": "wHKwTwG3jv7R"
      },
      "execution_count": null,
      "outputs": []
    },
    {
      "cell_type": "code",
      "source": [
        "torch.manual_seed(42)\n",
        "polynomial_model = PolynomialModel(power = 2)\n"
      ],
      "metadata": {
        "id": "mj4zP2DTluXe"
      },
      "execution_count": null,
      "outputs": []
    },
    {
      "cell_type": "code",
      "source": [
        "optimizer_poly = torch.optim.SGD(params = polynomial_model.parameters(), lr = 0.01)\n",
        "loss_fn_poly = nn.MSELoss()"
      ],
      "metadata": {
        "id": "hSlaNs3cl4nH"
      },
      "execution_count": null,
      "outputs": []
    },
    {
      "cell_type": "code",
      "source": [
        "epochs = 500\n",
        "poly_epochs = []\n",
        "poly_train_loss = []\n",
        "poly_test_loss = []\n",
        "X_train_scaled = (X_train-X_train.mean())/X_train.std()\n",
        "X_test_scaled = (X_test-X_train.mean())/X_train.std()\n",
        "\n",
        "for epoch in tqdm(range(epochs)):\n",
        "  polynomial_model.train()\n",
        "  y_pred = polynomial_model(X_train_scaled)\n",
        "  loss_poly = loss_fn_poly(y_pred, y_train)\n",
        "  optimizer_poly.zero_grad()\n",
        "  loss_poly.backward()\n",
        "  optimizer_poly.step()\n",
        "\n",
        "  polynomial_model.eval()\n",
        "  with torch.inference_mode():\n",
        "    test_pred = polynomial_model(X_test_scaled)\n",
        "    test_loss = loss_fn_poly(test_pred, y_test)\n",
        "  if epoch%10==0:\n",
        "    poly_epochs.append(epoch)\n",
        "    poly_train_loss.append(loss_poly)\n",
        "    poly_test_loss.append(test_loss)\n",
        "  if epoch%100 == 0:\n",
        "    print(f\"Epoch: {epoch} | Train Loss: {loss_poly} | Test Loss: {test_loss}\")\n",
        ""
      ],
      "metadata": {
        "id": "k9JLEyhtmQSg"
      },
      "execution_count": null,
      "outputs": []
    },
    {
      "cell_type": "code",
      "source": [
        "\n",
        "poly_predictions = polynomial_model(X_test_scaled)\n",
        "plot_predictions(predictions = poly_predictions.detach())"
      ],
      "metadata": {
        "id": "K_oQ3nlwnL-E"
      },
      "execution_count": null,
      "outputs": []
    },
    {
      "cell_type": "code",
      "source": [
        "plt.figure(figsize = (10,7))\n",
        "plt.plot(num_epochs, poly_test_loss , c = 'g',label = 'Polynomial Model')\n",
        "plt.plot(num_epochs , test_error , c = 'r', label = 'Linear Model' )\n",
        "plt.legend(prop = {'size':14})"
      ],
      "metadata": {
        "id": "aUbuvvsdnZMz"
      },
      "execution_count": null,
      "outputs": []
    },
    {
      "cell_type": "code",
      "source": [],
      "metadata": {
        "id": "fFGdRj_pt2uO"
      },
      "execution_count": null,
      "outputs": []
    }
  ]
}